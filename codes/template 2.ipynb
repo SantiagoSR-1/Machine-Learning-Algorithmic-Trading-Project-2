{
 "cells": [
  {
   "cell_type": "code",
   "execution_count": 15,
   "metadata": {},
   "outputs": [],
   "source": [
    "from datetime import datetime\n",
    "import requests\n",
    "import config\n",
    "import pandas as pd\n",
    "import time"
   ]
  },
  {
   "cell_type": "code",
   "execution_count": 16,
   "metadata": {},
   "outputs": [],
   "source": [
    "symbol = 'AAPL'\n",
    "start_date = '2015-01-11'\n",
    "end_date = '2021-07-12'\n",
    "rooturl = 'https://api.polygon.io/v2/aggs'"
   ]
  },
  {
   "cell_type": "code",
   "execution_count": 17,
   "metadata": {},
   "outputs": [],
   "source": [
    "def convertdateformat(date):\n",
    "    \"\"\"old date format 01-01-20 d m y\"\"\"\n",
    "    \"\"\"new date format 2020-01-01 Y m d\"\"\"\n",
    "    d = datetime.strptime(date, '%d-%m-%y')\n",
    "    return d.strftime(\"%Y-%m-%d\")"
   ]
  },
  {
   "cell_type": "code",
   "execution_count": 18,
   "metadata": {},
   "outputs": [],
   "source": [
    "def getwatchlistsymboleoddata(symbol, start_date, end_date):\n",
    "    rooturl = 'https://api.polygon.io/v2/aggs'\n",
    "    timeframe = 'range/30/minute'\n",
    "    ticker = f'ticker/{symbol}'\n",
    "    adjust = 'unadjusted=true'\n",
    "    sort = 'sort=asc'\n",
    "    limit = 'limit=10000'\n",
    "    apikey = f'apiKey=gk5LejkXXsoxH53JKFHkbefopcUoGhEt'\n",
    "    httprequest = f'{rooturl}/{ticker}/{timeframe}/{start_date}/{end_date}?{adjust}&{sort}&{limit}&{apikey}'\n",
    "    \"\"\"Making a get request and return the results\"\"\"\n",
    "    return requests.get(httprequest).json()"
   ]
  },
  {
   "cell_type": "code",
   "execution_count": 19,
   "metadata": {},
   "outputs": [],
   "source": [
    "def tsInMilliSecondsToDate(ts):\n",
    "    time_stamp = ts/1000 # time stamp \n",
    "    struct_time = time.localtime(time_stamp) \n",
    "    return time.strftime(\"%Y-%m-%d %H:%M:%S\", struct_time)"
   ]
  },
  {
   "cell_type": "code",
   "execution_count": 20,
   "metadata": {},
   "outputs": [
    {
     "output_type": "execute_result",
     "data": {
      "text/plain": [
       "                            v        o         c       h         l\n",
       "t                                                                 \n",
       "2010-07-14 17:30:00     300.0  254.000  253.8400  254.00  253.8400\n",
       "2010-07-14 18:00:00     300.0  253.500  253.5000  253.50  253.5000\n",
       "2010-07-14 18:30:00     600.0  253.200  253.2500  253.25  253.2000\n",
       "2010-07-14 19:00:00    2790.0  253.250  252.5000  253.25  252.3000\n",
       "2010-07-14 19:30:00   16862.0  252.510  251.6400  252.80  251.2300\n",
       "...                       ...      ...       ...     ...       ...\n",
       "2010-08-05 01:00:00  668727.0  262.630  261.9800  262.80  261.7000\n",
       "2010-08-05 01:30:00  517265.0  262.009  262.1300  262.47  261.8100\n",
       "2010-08-05 02:00:00  579584.0  262.140  262.7000  262.88  262.1019\n",
       "2010-08-05 02:30:00  782567.0  262.680  262.7008  263.18  262.4300\n",
       "2010-08-05 03:00:00  758620.0  262.730  262.7700  263.00  262.3600\n",
       "\n",
       "[455 rows x 5 columns]"
      ],
      "text/html": "<div>\n<style scoped>\n    .dataframe tbody tr th:only-of-type {\n        vertical-align: middle;\n    }\n\n    .dataframe tbody tr th {\n        vertical-align: top;\n    }\n\n    .dataframe thead th {\n        text-align: right;\n    }\n</style>\n<table border=\"1\" class=\"dataframe\">\n  <thead>\n    <tr style=\"text-align: right;\">\n      <th></th>\n      <th>v</th>\n      <th>o</th>\n      <th>c</th>\n      <th>h</th>\n      <th>l</th>\n    </tr>\n    <tr>\n      <th>t</th>\n      <th></th>\n      <th></th>\n      <th></th>\n      <th></th>\n      <th></th>\n    </tr>\n  </thead>\n  <tbody>\n    <tr>\n      <th>2010-07-14 17:30:00</th>\n      <td>300.0</td>\n      <td>254.000</td>\n      <td>253.8400</td>\n      <td>254.00</td>\n      <td>253.8400</td>\n    </tr>\n    <tr>\n      <th>2010-07-14 18:00:00</th>\n      <td>300.0</td>\n      <td>253.500</td>\n      <td>253.5000</td>\n      <td>253.50</td>\n      <td>253.5000</td>\n    </tr>\n    <tr>\n      <th>2010-07-14 18:30:00</th>\n      <td>600.0</td>\n      <td>253.200</td>\n      <td>253.2500</td>\n      <td>253.25</td>\n      <td>253.2000</td>\n    </tr>\n    <tr>\n      <th>2010-07-14 19:00:00</th>\n      <td>2790.0</td>\n      <td>253.250</td>\n      <td>252.5000</td>\n      <td>253.25</td>\n      <td>252.3000</td>\n    </tr>\n    <tr>\n      <th>2010-07-14 19:30:00</th>\n      <td>16862.0</td>\n      <td>252.510</td>\n      <td>251.6400</td>\n      <td>252.80</td>\n      <td>251.2300</td>\n    </tr>\n    <tr>\n      <th>...</th>\n      <td>...</td>\n      <td>...</td>\n      <td>...</td>\n      <td>...</td>\n      <td>...</td>\n    </tr>\n    <tr>\n      <th>2010-08-05 01:00:00</th>\n      <td>668727.0</td>\n      <td>262.630</td>\n      <td>261.9800</td>\n      <td>262.80</td>\n      <td>261.7000</td>\n    </tr>\n    <tr>\n      <th>2010-08-05 01:30:00</th>\n      <td>517265.0</td>\n      <td>262.009</td>\n      <td>262.1300</td>\n      <td>262.47</td>\n      <td>261.8100</td>\n    </tr>\n    <tr>\n      <th>2010-08-05 02:00:00</th>\n      <td>579584.0</td>\n      <td>262.140</td>\n      <td>262.7000</td>\n      <td>262.88</td>\n      <td>262.1019</td>\n    </tr>\n    <tr>\n      <th>2010-08-05 02:30:00</th>\n      <td>782567.0</td>\n      <td>262.680</td>\n      <td>262.7008</td>\n      <td>263.18</td>\n      <td>262.4300</td>\n    </tr>\n    <tr>\n      <th>2010-08-05 03:00:00</th>\n      <td>758620.0</td>\n      <td>262.730</td>\n      <td>262.7700</td>\n      <td>263.00</td>\n      <td>262.3600</td>\n    </tr>\n  </tbody>\n</table>\n<p>455 rows × 5 columns</p>\n</div>"
     },
     "metadata": {},
     "execution_count": 20
    }
   ],
   "source": [
    "_symbol = ['AAPL']\n",
    "\"\"\"enter one of the following range values:  minute|hour|day|week|month|quarter|year\"\"\"\n",
    "_rangevalue = 'minute'\n",
    "\"\"\"enter the start and end date in the following date format, %d-%m-%Y\"\"\"\n",
    "_start_date = '14-07-10'\n",
    "_end_date = '12-07-21'\n",
    "\"\"\"print(f'start date: {convertdateformat(_start_date)}')\n",
    "print(f'end date: {convertdateformat(_end_date)}')\"\"\"\n",
    "\"\"\"return the eod data from start date to end date for the current symbol using POLYGON\"\"\"\n",
    "templist = getwatchlistsymboleoddata(_symbol[0], convertdateformat(_start_date), convertdateformat(_end_date))\n",
    "jsondata = templist['results']\n",
    "newlist = []\n",
    "for data in jsondata:\n",
    "    mo = [tsInMilliSecondsToDate(data['t']), data['v'],  data['o'], data['c'], data['h'], data['l']]\n",
    "    newlist.append(mo)\n",
    "symbol_eod_dataframe = pd.DataFrame(newlist, columns=['t', 'v','o', 'c', 'h', 'l'])\n",
    "aapl_dataframe = pd.DataFrame(symbol_eod_dataframe)\n",
    "aapl_dataframe.set_index('t', inplace=True)\n",
    "aapl_dataframe"
   ]
  },
  {
   "cell_type": "code",
   "execution_count": null,
   "metadata": {},
   "outputs": [],
   "source": []
  }
 ],
 "metadata": {
  "kernelspec": {
   "name": "python3",
   "display_name": "Python 3.7.10 64-bit ('dev': conda)"
  },
  "language_info": {
   "codemirror_mode": {
    "name": "ipython",
    "version": 3
   },
   "file_extension": ".py",
   "mimetype": "text/x-python",
   "name": "python",
   "nbconvert_exporter": "python",
   "pygments_lexer": "ipython3",
   "version": "3.7.10"
  },
  "interpreter": {
   "hash": "b7722b72eee03fc2772db03162fe2eb08540b086cf8ab66d8cf1cf32b27017e2"
  }
 },
 "nbformat": 4,
 "nbformat_minor": 4
}